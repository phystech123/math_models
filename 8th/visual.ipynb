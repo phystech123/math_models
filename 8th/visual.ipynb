{
 "cells": [
  {
   "cell_type": "code",
   "execution_count": 44,
   "metadata": {},
   "outputs": [],
   "source": [
    "import pandas as pd\n",
    "import matplotlib.pyplot as plt\n",
    "import seaborn as sns\n",
    "import numpy as np\n",
    "import math\n"
   ]
  },
  {
   "cell_type": "code",
   "execution_count": 243,
   "metadata": {},
   "outputs": [],
   "source": [
    "W = 10;\n",
    "g = 2*W;"
   ]
  },
  {
   "cell_type": "code",
   "execution_count": 252,
   "metadata": {},
   "outputs": [
    {
     "data": {
      "text/html": [
       "<div>\n",
       "<style scoped>\n",
       "    .dataframe tbody tr th:only-of-type {\n",
       "        vertical-align: middle;\n",
       "    }\n",
       "\n",
       "    .dataframe tbody tr th {\n",
       "        vertical-align: top;\n",
       "    }\n",
       "\n",
       "    .dataframe thead th {\n",
       "        text-align: right;\n",
       "    }\n",
       "</style>\n",
       "<table border=\"1\" class=\"dataframe\">\n",
       "  <thead>\n",
       "    <tr style=\"text-align: right;\">\n",
       "      <th></th>\n",
       "      <th>t</th>\n",
       "      <th>x</th>\n",
       "    </tr>\n",
       "  </thead>\n",
       "  <tbody>\n",
       "    <tr>\n",
       "      <th>0</th>\n",
       "      <td>0.000</td>\n",
       "      <td>0.000000</td>\n",
       "    </tr>\n",
       "    <tr>\n",
       "      <th>1</th>\n",
       "      <td>0.001</td>\n",
       "      <td>0.010000</td>\n",
       "    </tr>\n",
       "    <tr>\n",
       "      <th>2</th>\n",
       "      <td>0.002</td>\n",
       "      <td>0.019600</td>\n",
       "    </tr>\n",
       "    <tr>\n",
       "      <th>3</th>\n",
       "      <td>0.003</td>\n",
       "      <td>0.028815</td>\n",
       "    </tr>\n",
       "    <tr>\n",
       "      <th>4</th>\n",
       "      <td>0.004</td>\n",
       "      <td>0.037659</td>\n",
       "    </tr>\n",
       "    <tr>\n",
       "      <th>...</th>\n",
       "      <td>...</td>\n",
       "      <td>...</td>\n",
       "    </tr>\n",
       "    <tr>\n",
       "      <th>95</th>\n",
       "      <td>0.095</td>\n",
       "      <td>0.215940</td>\n",
       "    </tr>\n",
       "    <tr>\n",
       "      <th>96</th>\n",
       "      <td>0.096</td>\n",
       "      <td>0.215631</td>\n",
       "    </tr>\n",
       "    <tr>\n",
       "      <th>97</th>\n",
       "      <td>0.097</td>\n",
       "      <td>0.215312</td>\n",
       "    </tr>\n",
       "    <tr>\n",
       "      <th>98</th>\n",
       "      <td>0.098</td>\n",
       "      <td>0.214985</td>\n",
       "    </tr>\n",
       "    <tr>\n",
       "      <th>99</th>\n",
       "      <td>0.099</td>\n",
       "      <td>0.214650</td>\n",
       "    </tr>\n",
       "  </tbody>\n",
       "</table>\n",
       "<p>100 rows × 2 columns</p>\n",
       "</div>"
      ],
      "text/plain": [
       "        t         x\n",
       "0   0.000  0.000000\n",
       "1   0.001  0.010000\n",
       "2   0.002  0.019600\n",
       "3   0.003  0.028815\n",
       "4   0.004  0.037659\n",
       "..    ...       ...\n",
       "95  0.095  0.215940\n",
       "96  0.096  0.215631\n",
       "97  0.097  0.215312\n",
       "98  0.098  0.214985\n",
       "99  0.099  0.214650\n",
       "\n",
       "[100 rows x 2 columns]"
      ]
     },
     "execution_count": 252,
     "metadata": {},
     "output_type": "execute_result"
    }
   ],
   "source": [
    "dfX = pd.read_csv(\"datas/dataX_eyler.csv\", sep=\";\")\n",
    "dfX"
   ]
  },
  {
   "cell_type": "code",
   "execution_count": 256,
   "metadata": {},
   "outputs": [
    {
     "data": {
      "text/plain": [
       "<Axes: xlabel='t', ylabel=' x'>"
      ]
     },
     "execution_count": 256,
     "metadata": {},
     "output_type": "execute_result"
    },
    {
     "data": {
      "image/png": "[encoded data removed]",
      "text/plain": [
       "<Figure size 640x480 with 1 Axes>"
      ]
     },
     "metadata": {},
     "output_type": "display_data"
    }
   ],
   "source": [
    "plt.figure()\n",
    "sns.scatterplot(data=dfX, x='t', y=' x')\n",
    "xx = dfX['t'].to_numpy()\n",
    "# yy = np.exp(-g*xx) * np.sin(xx*(np.sqrt(W**2 - g**2)))\n",
    "# yy = (10*xx)*np.exp(-g*xx)\n",
    "yy = -1/(2*np.sqrt(3))*np.exp((-g - np.sqrt(g**2 - W**2))*xx) + 1/(2*np.sqrt(3))*np.exp((-g + np.sqrt(g**2 - W**2))*xx)\n",
    "sns.scatterplot(x = xx, y=yy)"
   ]
  },
  {
   "cell_type": "markdown",
   "metadata": {},
   "source": [
    "ct*e(-wt)` = c*e() + ct*e()*-w = (c-wct)e()\n",
    "c*e(-g - sqrt(g**2 - w**2)t) ...(0) = c*2*(-sqrt(g**2 - w**2))=10 => c=1/(2sqrt(3))"
   ]
  },
  {
   "cell_type": "code",
   "execution_count": 266,
   "metadata": {},
   "outputs": [
    {
     "data": {
      "text/html": [
       "<div>\n",
       "<style scoped>\n",
       "    .dataframe tbody tr th:only-of-type {\n",
       "        vertical-align: middle;\n",
       "    }\n",
       "\n",
       "    .dataframe tbody tr th {\n",
       "        vertical-align: top;\n",
       "    }\n",
       "\n",
       "    .dataframe thead th {\n",
       "        text-align: right;\n",
       "    }\n",
       "</style>\n",
       "<table border=\"1\" class=\"dataframe\">\n",
       "  <thead>\n",
       "    <tr style=\"text-align: right;\">\n",
       "      <th></th>\n",
       "      <th>t</th>\n",
       "      <th>x</th>\n",
       "    </tr>\n",
       "  </thead>\n",
       "  <tbody>\n",
       "    <tr>\n",
       "      <th>0</th>\n",
       "      <td>0.000</td>\n",
       "      <td>10.000000</td>\n",
       "    </tr>\n",
       "    <tr>\n",
       "      <th>1</th>\n",
       "      <td>0.001</td>\n",
       "      <td>9.600000</td>\n",
       "    </tr>\n",
       "    <tr>\n",
       "      <th>2</th>\n",
       "      <td>0.002</td>\n",
       "      <td>9.215000</td>\n",
       "    </tr>\n",
       "    <tr>\n",
       "      <th>3</th>\n",
       "      <td>0.003</td>\n",
       "      <td>8.844440</td>\n",
       "    </tr>\n",
       "    <tr>\n",
       "      <th>4</th>\n",
       "      <td>0.004</td>\n",
       "      <td>8.487780</td>\n",
       "    </tr>\n",
       "    <tr>\n",
       "      <th>...</th>\n",
       "      <td>...</td>\n",
       "      <td>...</td>\n",
       "    </tr>\n",
       "    <tr>\n",
       "      <th>95</th>\n",
       "      <td>0.095</td>\n",
       "      <td>-0.308981</td>\n",
       "    </tr>\n",
       "    <tr>\n",
       "      <th>96</th>\n",
       "      <td>0.096</td>\n",
       "      <td>-0.318216</td>\n",
       "    </tr>\n",
       "    <tr>\n",
       "      <th>97</th>\n",
       "      <td>0.097</td>\n",
       "      <td>-0.327050</td>\n",
       "    </tr>\n",
       "    <tr>\n",
       "      <th>98</th>\n",
       "      <td>0.098</td>\n",
       "      <td>-0.335500</td>\n",
       "    </tr>\n",
       "    <tr>\n",
       "      <th>99</th>\n",
       "      <td>0.099</td>\n",
       "      <td>-0.343578</td>\n",
       "    </tr>\n",
       "  </tbody>\n",
       "</table>\n",
       "<p>100 rows × 2 columns</p>\n",
       "</div>"
      ],
      "text/plain": [
       "        t          x\n",
       "0   0.000  10.000000\n",
       "1   0.001   9.600000\n",
       "2   0.002   9.215000\n",
       "3   0.003   8.844440\n",
       "4   0.004   8.487780\n",
       "..    ...        ...\n",
       "95  0.095  -0.308981\n",
       "96  0.096  -0.318216\n",
       "97  0.097  -0.327050\n",
       "98  0.098  -0.335500\n",
       "99  0.099  -0.343578\n",
       "\n",
       "[100 rows x 2 columns]"
      ]
     },
     "execution_count": 266,
     "metadata": {},
     "output_type": "execute_result"
    }
   ],
   "source": [
    "dfV = pd.read_csv(\"datas/dataV_eyler.csv\", sep=\";\")\n",
    "dfV"
   ]
  },
  {
   "cell_type": "code",
   "execution_count": 274,
   "metadata": {},
   "outputs": [
    {
     "data": {
      "text/plain": [
       "<Axes: xlabel='t', ylabel=' x'>"
      ]
     },
     "execution_count": 274,
     "metadata": {},
     "output_type": "execute_result"
    },
    {
     "data": {
      "image/png": "[encoded data removed]",
      "text/plain": [
       "<Figure size 640x480 with 1 Axes>"
      ]
     },
     "metadata": {},
     "output_type": "display_data"
    }
   ],
   "source": [
    "plt.figure()\n",
    "sns.scatterplot(data=dfV, x='t', y=' x')\n",
    "xx = dfV['t'].to_numpy()\n",
    "# yy = np.exp(-g*xx) * np.sin(xx*(np.sqrt(W**2 - g**2))- np.pi/2) *(-10)\n",
    "# yy = (10 - W*10*xx)*np.exp(-g*xx)\n",
    "yy =  -(-g - np.sqrt(g**2 - W**2))/(2*np.sqrt(3))*np.exp((-g - np.sqrt(g**2 - W**2))*xx) + (-g + np.sqrt(g**2 - W**2))/(2*np.sqrt(3))*np.exp((-g + np.sqrt(g**2 - W**2))*xx)\n",
    "sns.scatterplot(x = xx, y=yy)"
   ]
  },
  {
   "cell_type": "code",
   "execution_count": 257,
   "metadata": {},
   "outputs": [
    {
     "data": {
      "text/html": [
       "<div>\n",
       "<style scoped>\n",
       "    .dataframe tbody tr th:only-of-type {\n",
       "        vertical-align: middle;\n",
       "    }\n",
       "\n",
       "    .dataframe tbody tr th {\n",
       "        vertical-align: top;\n",
       "    }\n",
       "\n",
       "    .dataframe thead th {\n",
       "        text-align: right;\n",
       "    }\n",
       "</style>\n",
       "<table border=\"1\" class=\"dataframe\">\n",
       "  <thead>\n",
       "    <tr style=\"text-align: right;\">\n",
       "      <th></th>\n",
       "      <th>t</th>\n",
       "      <th>x</th>\n",
       "    </tr>\n",
       "  </thead>\n",
       "  <tbody>\n",
       "    <tr>\n",
       "      <th>0</th>\n",
       "      <td>0.000</td>\n",
       "      <td>0.000000e+00</td>\n",
       "    </tr>\n",
       "    <tr>\n",
       "      <th>1</th>\n",
       "      <td>0.001</td>\n",
       "      <td>9.800000e-03</td>\n",
       "    </tr>\n",
       "    <tr>\n",
       "      <th>2</th>\n",
       "      <td>0.002</td>\n",
       "      <td>1.921490e-02</td>\n",
       "    </tr>\n",
       "    <tr>\n",
       "      <th>3</th>\n",
       "      <td>0.003</td>\n",
       "      <td>2.825880e-02</td>\n",
       "    </tr>\n",
       "    <tr>\n",
       "      <th>4</th>\n",
       "      <td>0.004</td>\n",
       "      <td>3.694530e-02</td>\n",
       "    </tr>\n",
       "    <tr>\n",
       "      <th>...</th>\n",
       "      <td>...</td>\n",
       "      <td>...</td>\n",
       "    </tr>\n",
       "    <tr>\n",
       "      <th>9995</th>\n",
       "      <td>9.995</td>\n",
       "      <td>6.750810e-13</td>\n",
       "    </tr>\n",
       "    <tr>\n",
       "      <th>9996</th>\n",
       "      <td>9.996</td>\n",
       "      <td>6.732750e-13</td>\n",
       "    </tr>\n",
       "    <tr>\n",
       "      <th>9997</th>\n",
       "      <td>9.997</td>\n",
       "      <td>6.714730e-13</td>\n",
       "    </tr>\n",
       "    <tr>\n",
       "      <th>9998</th>\n",
       "      <td>9.998</td>\n",
       "      <td>6.696770e-13</td>\n",
       "    </tr>\n",
       "    <tr>\n",
       "      <th>9999</th>\n",
       "      <td>9.999</td>\n",
       "      <td>6.678850e-13</td>\n",
       "    </tr>\n",
       "  </tbody>\n",
       "</table>\n",
       "<p>10000 rows × 2 columns</p>\n",
       "</div>"
      ],
      "text/plain": [
       "          t             x\n",
       "0     0.000  0.000000e+00\n",
       "1     0.001  9.800000e-03\n",
       "2     0.002  1.921490e-02\n",
       "3     0.003  2.825880e-02\n",
       "4     0.004  3.694530e-02\n",
       "...     ...           ...\n",
       "9995  9.995  6.750810e-13\n",
       "9996  9.996  6.732750e-13\n",
       "9997  9.997  6.714730e-13\n",
       "9998  9.998  6.696770e-13\n",
       "9999  9.999  6.678850e-13\n",
       "\n",
       "[10000 rows x 2 columns]"
      ]
     },
     "execution_count": 257,
     "metadata": {},
     "output_type": "execute_result"
    }
   ],
   "source": [
    "dfX_h = pd.read_csv(\"datas/dataX_hoin.csv\", sep=\";\")\n",
    "dfX_h"
   ]
  },
  {
   "cell_type": "code",
   "execution_count": 275,
   "metadata": {},
   "outputs": [
    {
     "data": {
      "text/plain": [
       "<Axes: xlabel='t', ylabel=' x'>"
      ]
     },
     "execution_count": 275,
     "metadata": {},
     "output_type": "execute_result"
    },
    {
     "data": {
      "image/png": "[encoded data removed]",
      "text/plain": [
       "<Figure size 640x480 with 1 Axes>"
      ]
     },
     "metadata": {},
     "output_type": "display_data"
    }
   ],
   "source": [
    "plt.figure()\n",
    "sns.scatterplot(data=dfX_h, x='t', y=' x')\n",
    "xx = dfX_h['t'].to_numpy()\n",
    "# yy = np.exp(-g*xx) * np.sin(xx*(np.sqrt(W**2 - g**2)))\n",
    "# yy = (10*xx)*np.exp(-g*xx)\n",
    "yy = -1/(2*np.sqrt(3))*np.exp((-g - np.sqrt(g**2 - W**2))*xx) + 1/(2*np.sqrt(3))*np.exp((-g + np.sqrt(g**2 - W**2))*xx)\n",
    "sns.scatterplot(x = xx, y=yy)"
   ]
  },
  {
   "cell_type": "code",
   "execution_count": 276,
   "metadata": {},
   "outputs": [
    {
     "data": {
      "text/html": [
       "<div>\n",
       "<style scoped>\n",
       "    .dataframe tbody tr th:only-of-type {\n",
       "        vertical-align: middle;\n",
       "    }\n",
       "\n",
       "    .dataframe tbody tr th {\n",
       "        vertical-align: top;\n",
       "    }\n",
       "\n",
       "    .dataframe thead th {\n",
       "        text-align: right;\n",
       "    }\n",
       "</style>\n",
       "<table border=\"1\" class=\"dataframe\">\n",
       "  <thead>\n",
       "    <tr style=\"text-align: right;\">\n",
       "      <th></th>\n",
       "      <th>t</th>\n",
       "      <th>x</th>\n",
       "    </tr>\n",
       "  </thead>\n",
       "  <tbody>\n",
       "    <tr>\n",
       "      <th>0</th>\n",
       "      <td>0.000</td>\n",
       "      <td>1.000000e+01</td>\n",
       "    </tr>\n",
       "    <tr>\n",
       "      <th>1</th>\n",
       "      <td>0.001</td>\n",
       "      <td>9.607500e+00</td>\n",
       "    </tr>\n",
       "    <tr>\n",
       "      <th>2</th>\n",
       "      <td>0.002</td>\n",
       "      <td>9.229450e+00</td>\n",
       "    </tr>\n",
       "    <tr>\n",
       "      <th>3</th>\n",
       "      <td>0.003</td>\n",
       "      <td>8.865310e+00</td>\n",
       "    </tr>\n",
       "    <tr>\n",
       "      <th>4</th>\n",
       "      <td>0.004</td>\n",
       "      <td>8.514570e+00</td>\n",
       "    </tr>\n",
       "    <tr>\n",
       "      <th>...</th>\n",
       "      <td>...</td>\n",
       "      <td>...</td>\n",
       "    </tr>\n",
       "    <tr>\n",
       "      <th>9995</th>\n",
       "      <td>9.995</td>\n",
       "      <td>-1.808880e-12</td>\n",
       "    </tr>\n",
       "    <tr>\n",
       "      <th>9996</th>\n",
       "      <td>9.996</td>\n",
       "      <td>-1.804040e-12</td>\n",
       "    </tr>\n",
       "    <tr>\n",
       "      <th>9997</th>\n",
       "      <td>9.997</td>\n",
       "      <td>-1.799210e-12</td>\n",
       "    </tr>\n",
       "    <tr>\n",
       "      <th>9998</th>\n",
       "      <td>9.998</td>\n",
       "      <td>-1.794390e-12</td>\n",
       "    </tr>\n",
       "    <tr>\n",
       "      <th>9999</th>\n",
       "      <td>9.999</td>\n",
       "      <td>-1.789590e-12</td>\n",
       "    </tr>\n",
       "  </tbody>\n",
       "</table>\n",
       "<p>10000 rows × 2 columns</p>\n",
       "</div>"
      ],
      "text/plain": [
       "          t             x\n",
       "0     0.000  1.000000e+01\n",
       "1     0.001  9.607500e+00\n",
       "2     0.002  9.229450e+00\n",
       "3     0.003  8.865310e+00\n",
       "4     0.004  8.514570e+00\n",
       "...     ...           ...\n",
       "9995  9.995 -1.808880e-12\n",
       "9996  9.996 -1.804040e-12\n",
       "9997  9.997 -1.799210e-12\n",
       "9998  9.998 -1.794390e-12\n",
       "9999  9.999 -1.789590e-12\n",
       "\n",
       "[10000 rows x 2 columns]"
      ]
     },
     "execution_count": 276,
     "metadata": {},
     "output_type": "execute_result"
    }
   ],
   "source": [
    "dfV_h = pd.read_csv(\"datas/dataV_hoin.csv\", sep=\";\")\n",
    "dfV_h"
   ]
  },
  {
   "cell_type": "code",
   "execution_count": 279,
   "metadata": {},
   "outputs": [
    {
     "data": {
      "text/plain": [
       "<Axes: xlabel='t', ylabel=' x'>"
      ]
     },
     "execution_count": 279,
     "metadata": {},
     "output_type": "execute_result"
    },
    {
     "data": {
      "image/png": "[encoded data removed]",
      "text/plain": [
       "<Figure size 640x480 with 1 Axes>"
      ]
     },
     "metadata": {},
     "output_type": "display_data"
    }
   ],
   "source": [
    "plt.figure()\n",
    "sns.scatterplot(data=dfV_h, x='t', y=' x')\n",
    "xx = dfV_h['t'].to_numpy()\n",
    "# yy = np.exp(-g*xx) * np.sin(xx*(np.sqrt(W**2 - g**2))- np.pi/2) *(-10)\n",
    "# yy = (10 - W*10*xx)*np.exp(-g*xx)\n",
    "yy =  -(-g - np.sqrt(g**2 - W**2))/(2*np.sqrt(3))*np.exp((-g - np.sqrt(g**2 - W**2))*xx) + (-g + np.sqrt(g**2 - W**2))/(2*np.sqrt(3))*np.exp((-g + np.sqrt(g**2 - W**2))*xx)\n",
    "sns.scatterplot(x = xx, y=yy)"
   ]
  },
  {
   "cell_type": "code",
   "execution_count": 280,
   "metadata": {},
   "outputs": [
    {
     "data": {
      "text/html": [
       "<div>\n",
       "<style scoped>\n",
       "    .dataframe tbody tr th:only-of-type {\n",
       "        vertical-align: middle;\n",
       "    }\n",
       "\n",
       "    .dataframe tbody tr th {\n",
       "        vertical-align: top;\n",
       "    }\n",
       "\n",
       "    .dataframe thead th {\n",
       "        text-align: right;\n",
       "    }\n",
       "</style>\n",
       "<table border=\"1\" class=\"dataframe\">\n",
       "  <thead>\n",
       "    <tr style=\"text-align: right;\">\n",
       "      <th></th>\n",
       "      <th>t</th>\n",
       "      <th>x</th>\n",
       "    </tr>\n",
       "  </thead>\n",
       "  <tbody>\n",
       "    <tr>\n",
       "      <th>0</th>\n",
       "      <td>0.000</td>\n",
       "      <td>0.000000e+00</td>\n",
       "    </tr>\n",
       "    <tr>\n",
       "      <th>1</th>\n",
       "      <td>0.001</td>\n",
       "      <td>9.802480e-03</td>\n",
       "    </tr>\n",
       "    <tr>\n",
       "      <th>2</th>\n",
       "      <td>0.002</td>\n",
       "      <td>1.921960e-02</td>\n",
       "    </tr>\n",
       "    <tr>\n",
       "      <th>3</th>\n",
       "      <td>0.003</td>\n",
       "      <td>2.826570e-02</td>\n",
       "    </tr>\n",
       "    <tr>\n",
       "      <th>4</th>\n",
       "      <td>0.004</td>\n",
       "      <td>3.695420e-02</td>\n",
       "    </tr>\n",
       "    <tr>\n",
       "      <th>...</th>\n",
       "      <td>...</td>\n",
       "      <td>...</td>\n",
       "    </tr>\n",
       "    <tr>\n",
       "      <th>9995</th>\n",
       "      <td>9.995</td>\n",
       "      <td>6.750600e-13</td>\n",
       "    </tr>\n",
       "    <tr>\n",
       "      <th>9996</th>\n",
       "      <td>9.996</td>\n",
       "      <td>6.732530e-13</td>\n",
       "    </tr>\n",
       "    <tr>\n",
       "      <th>9997</th>\n",
       "      <td>9.997</td>\n",
       "      <td>6.714520e-13</td>\n",
       "    </tr>\n",
       "    <tr>\n",
       "      <th>9998</th>\n",
       "      <td>9.998</td>\n",
       "      <td>6.696550e-13</td>\n",
       "    </tr>\n",
       "    <tr>\n",
       "      <th>9999</th>\n",
       "      <td>9.999</td>\n",
       "      <td>6.678630e-13</td>\n",
       "    </tr>\n",
       "  </tbody>\n",
       "</table>\n",
       "<p>10000 rows × 2 columns</p>\n",
       "</div>"
      ],
      "text/plain": [
       "          t             x\n",
       "0     0.000  0.000000e+00\n",
       "1     0.001  9.802480e-03\n",
       "2     0.002  1.921960e-02\n",
       "3     0.003  2.826570e-02\n",
       "4     0.004  3.695420e-02\n",
       "...     ...           ...\n",
       "9995  9.995  6.750600e-13\n",
       "9996  9.996  6.732530e-13\n",
       "9997  9.997  6.714520e-13\n",
       "9998  9.998  6.696550e-13\n",
       "9999  9.999  6.678630e-13\n",
       "\n",
       "[10000 rows x 2 columns]"
      ]
     },
     "execution_count": 280,
     "metadata": {},
     "output_type": "execute_result"
    }
   ],
   "source": [
    "dfX_R = pd.read_csv(\"datas/dataX_RK4.csv\", sep=\";\")\n",
    "dfX_R"
   ]
  },
  {
   "cell_type": "code",
   "execution_count": 281,
   "metadata": {},
   "outputs": [
    {
     "data": {
      "text/plain": [
       "<Axes: xlabel='t', ylabel=' x'>"
      ]
     },
     "execution_count": 281,
     "metadata": {},
     "output_type": "execute_result"
    },
    {
     "data": {
      "image/png": "[encoded data removed]",
      "text/plain": [
       "<Figure size 640x480 with 1 Axes>"
      ]
     },
     "metadata": {},
     "output_type": "display_data"
    }
   ],
   "source": [
    "plt.figure()\n",
    "sns.scatterplot(data=dfX_R, x='t', y=' x')\n",
    "xx = dfX_R['t'].to_numpy()\n",
    "# yy = np.exp(-g*xx) * np.sin(xx*(np.sqrt(W**2 - g**2)))\n",
    "# yy = (10*xx)*np.exp(-g*xx)\n",
    "yy = -1/(2*np.sqrt(3))*np.exp((-g - np.sqrt(g**2 - W**2))*xx) + 1/(2*np.sqrt(3))*np.exp((-g + np.sqrt(g**2 - W**2))*xx)\n",
    "sns.scatterplot(x = xx, y=yy)"
   ]
  },
  {
   "cell_type": "code",
   "execution_count": 283,
   "metadata": {},
   "outputs": [
    {
     "data": {
      "text/html": [
       "<div>\n",
       "<style scoped>\n",
       "    .dataframe tbody tr th:only-of-type {\n",
       "        vertical-align: middle;\n",
       "    }\n",
       "\n",
       "    .dataframe tbody tr th {\n",
       "        vertical-align: top;\n",
       "    }\n",
       "\n",
       "    .dataframe thead th {\n",
       "        text-align: right;\n",
       "    }\n",
       "</style>\n",
       "<table border=\"1\" class=\"dataframe\">\n",
       "  <thead>\n",
       "    <tr style=\"text-align: right;\">\n",
       "      <th></th>\n",
       "      <th>t</th>\n",
       "      <th>x</th>\n",
       "    </tr>\n",
       "  </thead>\n",
       "  <tbody>\n",
       "    <tr>\n",
       "      <th>0</th>\n",
       "      <td>0.000</td>\n",
       "      <td>1.000000e+01</td>\n",
       "    </tr>\n",
       "    <tr>\n",
       "      <th>1</th>\n",
       "      <td>0.001</td>\n",
       "      <td>9.607410e+00</td>\n",
       "    </tr>\n",
       "    <tr>\n",
       "      <th>2</th>\n",
       "      <td>0.002</td>\n",
       "      <td>9.229270e+00</td>\n",
       "    </tr>\n",
       "    <tr>\n",
       "      <th>3</th>\n",
       "      <td>0.003</td>\n",
       "      <td>8.865050e+00</td>\n",
       "    </tr>\n",
       "    <tr>\n",
       "      <th>4</th>\n",
       "      <td>0.004</td>\n",
       "      <td>8.514240e+00</td>\n",
       "    </tr>\n",
       "    <tr>\n",
       "      <th>...</th>\n",
       "      <td>...</td>\n",
       "      <td>...</td>\n",
       "    </tr>\n",
       "    <tr>\n",
       "      <th>9995</th>\n",
       "      <td>9.995</td>\n",
       "      <td>-1.808820e-12</td>\n",
       "    </tr>\n",
       "    <tr>\n",
       "      <th>9996</th>\n",
       "      <td>9.996</td>\n",
       "      <td>-1.803980e-12</td>\n",
       "    </tr>\n",
       "    <tr>\n",
       "      <th>9997</th>\n",
       "      <td>9.997</td>\n",
       "      <td>-1.799150e-12</td>\n",
       "    </tr>\n",
       "    <tr>\n",
       "      <th>9998</th>\n",
       "      <td>9.998</td>\n",
       "      <td>-1.794340e-12</td>\n",
       "    </tr>\n",
       "    <tr>\n",
       "      <th>9999</th>\n",
       "      <td>9.999</td>\n",
       "      <td>-1.789530e-12</td>\n",
       "    </tr>\n",
       "  </tbody>\n",
       "</table>\n",
       "<p>10000 rows × 2 columns</p>\n",
       "</div>"
      ],
      "text/plain": [
       "          t             x\n",
       "0     0.000  1.000000e+01\n",
       "1     0.001  9.607410e+00\n",
       "2     0.002  9.229270e+00\n",
       "3     0.003  8.865050e+00\n",
       "4     0.004  8.514240e+00\n",
       "...     ...           ...\n",
       "9995  9.995 -1.808820e-12\n",
       "9996  9.996 -1.803980e-12\n",
       "9997  9.997 -1.799150e-12\n",
       "9998  9.998 -1.794340e-12\n",
       "9999  9.999 -1.789530e-12\n",
       "\n",
       "[10000 rows x 2 columns]"
      ]
     },
     "execution_count": 283,
     "metadata": {},
     "output_type": "execute_result"
    }
   ],
   "source": [
    "dfV_R = pd.read_csv(\"datas/dataV_RK4.csv\", sep=\";\")\n",
    "dfV_R"
   ]
  },
  {
   "cell_type": "code",
   "execution_count": 284,
   "metadata": {},
   "outputs": [
    {
     "data": {
      "text/plain": [
       "<Axes: xlabel='t', ylabel=' x'>"
      ]
     },
     "execution_count": 284,
     "metadata": {},
     "output_type": "execute_result"
    },
    {
     "data": {
      "image/png": "[encoded data removed]",
      "text/plain": [
       "<Figure size 640x480 with 1 Axes>"
      ]
     },
     "metadata": {},
     "output_type": "display_data"
    }
   ],
   "source": [
    "plt.figure()\n",
    "sns.scatterplot(data=dfV_R, x='t', y=' x')\n",
    "xx = dfV_R['t'].to_numpy()\n",
    "# yy = np.exp(-g*xx) * np.sin(xx*(np.sqrt(W**2 - g**2))- np.pi/2) *(-10)\n",
    "# yy = (10 - W*10*xx)*np.exp(-g*xx)\n",
    "yy =  -(-g - np.sqrt(g**2 - W**2))/(2*np.sqrt(3))*np.exp((-g - np.sqrt(g**2 - W**2))*xx) + (-g + np.sqrt(g**2 - W**2))/(2*np.sqrt(3))*np.exp((-g + np.sqrt(g**2 - W**2))*xx)\n",
    "sns.scatterplot(x = xx, y=yy)"
   ]
  }
 ],
 "metadata": {
  "kernelspec": {
   "display_name": "Python 3",
   "language": "python",
   "name": "python3"
  },
  "language_info": {
   "codemirror_mode": {
    "name": "ipython",
    "version": 3
   },
   "file_extension": ".py",
   "mimetype": "text/x-python",
   "name": "python",
   "nbconvert_exporter": "python",
   "pygments_lexer": "ipython3",
   "version": "3.10.12"
  }
 },
 "nbformat": 4,
 "nbformat_minor": 2
}
